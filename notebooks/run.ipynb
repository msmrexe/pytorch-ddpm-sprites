{
 "cells": [
  {
   "cell_type": "markdown",
   "metadata": {},
   "source": [
    "# DDPM Sprites Runner Notebook\n",
    "\n",
    "This notebook provides a simple interface to run the key scripts in this repository:\n",
    "1.  **Installation**: Install required packages.\n",
    "2.  **Download Data**: Download the sprites dataset.\n",
    "3.  **Train**: Train the U-Net model.\n",
    "4.  **Sample**: Generate sample images with the trained model.\n",
    "5.  **Evaluate**: Calculate the FID score for the model.\n",
    "\n",
    "**Note**: Ensure you have a GPU runtime enabled for training."
   ]
  },
  {
   "cell_type": "markdown",
   "metadata": {},
   "source": [
    "## 1. Installation\n",
    "\n",
    "Install all necessary Python packages from `requirements.txt`."
   ]
  },
  {
   "cell_type": "code",
   "execution_count": null,
   "metadata": {},
   "outputs": [],
   "source": [
    "!pip install -r ../requirements.txt"
   ]
  },
  {
   "cell_type": "markdown",
   "metadata": {},
   "source": [
    "## 2. Download Data\n",
    "\n",
    "Run the bash script to download the `.npy` files into the `data/` directory."
   ]
  },
  {
   "cell_type": "code",
   "execution_count": null,
   "metadata": {},
   "outputs": [],
   "source": [
    "!bash ../scripts/download_data.sh"
   ]
  },
  {
   "cell_type": "markdown",
   "metadata": {},
   "source": [
    "## 3. Train the Model\n",
    "\n",
    "This will run the training script. By default, it uses the parameters in `src/config.py` (100 epochs, 128 features). This will take a significant amount of time."
   ]
  },
  {
   "cell_type": "code",
   "execution_count": null,
   "metadata": {},
   "outputs": [],
   "source": [
    "!python ../scripts/train.py"
   ]
  },
  {
   "cell_type": "markdown",
   "metadata": {},
   "source": [
    "## 4. Generate Samples\n",
    "\n",
    "Once the model is trained (`outputs/models/ddpm_sprite_best.pth` exists), you can generate a grid of sample images.\n",
    "\n",
    "### 4a. Sample with DDPM (Stochastic)"
   ]
  },
  {
   "cell_type": "code",
   "execution_count": null,
   "metadata": {},
   "outputs": [],
   "source": [
    "!python ../scripts/sample.py --n-samples 16 --method ddpm"
   ]
  },
  {
   "cell_type": "markdown",
   "metadata": {},
   "source": [
    "### 4b. Sample with DDIM (Deterministic)\n",
    "\n",
    "This is much faster as it uses fewer steps."
   ]
  },
  {
   "cell_type": "code",
   "execution_count": null,
   "metadata": {},
   "outputs": [],
   "source": [
    "!python ../scripts/sample.py --n-samples 16 --method ddim --n-ddim-steps 50 --eta 0.0"
   ]
  },
  {
   "cell_type": "markdown",
   "metadata": {},
   "source": [
    "## 5. Evaluate the Model (FID Score)\n",
    "\n",
    "This script will generate 3000 real and 3000 fake images and then compute the Fréchet Inception Distance (FID). This can take several minutes."
   ]
  },
  {
   "cell_type": "code",
   "execution_count": null,
   "metadata": {},
   "outputs": [],
   "source": [
    "!python ../scripts/evaluate.py --n-samples 3000 --method ddim --n-ddim-steps 100"
   ]
  }
 ],
 "metadata": {
  "kernelspec": {
   "display_name": "Python 3",
   "language": "python",
   "name": "python3"
  },
  "language_info": {
   "codemirror_mode": {
    "name": "ipython",
    "version": 3
   },
   "file_extension": ".py",
   "mimetype": "text/x-python",
   "name": "python",
   "nbconvert_exporter": "python",
   "pygments_lexer": "ipython3",
   "version": "3.10.0"
  }
 },
 "nbformat": 4,
 "nbformat_minor": 2
}
